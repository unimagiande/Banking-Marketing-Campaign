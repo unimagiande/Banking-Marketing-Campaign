{
 "cells": [
  {
   "cell_type": "markdown",
   "metadata": {
    "id": "Sc_DFqXWeW-1"
   },
   "source": [
    " ### Bank Marketing campaign outcome prediction with deep learning"
   ]
  },
  {
   "cell_type": "markdown",
   "metadata": {
    "id": "dVQcyVkDd58e"
   },
   "source": [
    "This ➡️ dataset contains banking marketing campaign data and we can use it to optimize marketing campaigns to attract more customers to term deposit subscription.\n",
    "\n",
    "What is a Term Deposit?\n",
    "\n",
    "A Term deposit is a deposit that a bank or a financial institution offers with a fixed rate (often better than just opening deposit account) in which your money will be returned back at a specific maturity time.\n",
    "\n",
    "Dataset link: https://drive.google.com/file/d/1kVnOzZ84avAAY1mA2I_Oh6FH3UPEb-_3/view?usp=sharing"
   ]
  },
  {
   "cell_type": "markdown",
   "metadata": {
    "id": "SzdVchamftGG"
   },
   "source": [
    "#### Importing necessary libraries"
   ]
  },
  {
   "cell_type": "code",
   "execution_count": 3,
   "metadata": {
    "id": "RcxpEyJIcbad"
   },
   "outputs": [],
   "source": [
    "import pandas as pd\n",
    "import numpy as np\n",
    "import matplotlib.pyplot as plt\n",
    "import seaborn as sns\n",
    "import warnings\n",
    "warnings.filterwarnings('ignore')"
   ]
  },
  {
   "cell_type": "markdown",
   "metadata": {
    "id": "nWcRlvCwhipT"
   },
   "source": [
    "#### Loading my dataset and perform data exploration"
   ]
  },
  {
   "cell_type": "code",
   "execution_count": 5,
   "metadata": {
    "id": "qABeg9_9evQY"
   },
   "outputs": [],
   "source": [
    "df = pd.read_csv(\"bank.csv\")"
   ]
  },
  {
   "cell_type": "code",
   "execution_count": 7,
   "metadata": {
    "colab": {
     "base_uri": "https://localhost:8080/",
     "height": 226
    },
    "id": "YuXFe6k5hheK",
    "outputId": "a5169857-b9d5-4ea9-e2a1-dd180ae756bf"
   },
   "outputs": [
    {
     "data": {
      "text/html": [
       "<div>\n",
       "<style scoped>\n",
       "    .dataframe tbody tr th:only-of-type {\n",
       "        vertical-align: middle;\n",
       "    }\n",
       "\n",
       "    .dataframe tbody tr th {\n",
       "        vertical-align: top;\n",
       "    }\n",
       "\n",
       "    .dataframe thead th {\n",
       "        text-align: right;\n",
       "    }\n",
       "</style>\n",
       "<table border=\"1\" class=\"dataframe\">\n",
       "  <thead>\n",
       "    <tr style=\"text-align: right;\">\n",
       "      <th></th>\n",
       "      <th>age</th>\n",
       "      <th>job</th>\n",
       "      <th>marital</th>\n",
       "      <th>education</th>\n",
       "      <th>default</th>\n",
       "      <th>balance</th>\n",
       "      <th>housing</th>\n",
       "      <th>loan</th>\n",
       "      <th>contact</th>\n",
       "      <th>day</th>\n",
       "      <th>month</th>\n",
       "      <th>duration</th>\n",
       "      <th>campaign</th>\n",
       "      <th>pdays</th>\n",
       "      <th>previous</th>\n",
       "      <th>poutcome</th>\n",
       "      <th>deposit</th>\n",
       "    </tr>\n",
       "  </thead>\n",
       "  <tbody>\n",
       "    <tr>\n",
       "      <th>0</th>\n",
       "      <td>59</td>\n",
       "      <td>admin.</td>\n",
       "      <td>married</td>\n",
       "      <td>secondary</td>\n",
       "      <td>no</td>\n",
       "      <td>2343</td>\n",
       "      <td>yes</td>\n",
       "      <td>no</td>\n",
       "      <td>unknown</td>\n",
       "      <td>5</td>\n",
       "      <td>may</td>\n",
       "      <td>1042</td>\n",
       "      <td>1</td>\n",
       "      <td>-1</td>\n",
       "      <td>0</td>\n",
       "      <td>unknown</td>\n",
       "      <td>yes</td>\n",
       "    </tr>\n",
       "    <tr>\n",
       "      <th>1</th>\n",
       "      <td>56</td>\n",
       "      <td>admin.</td>\n",
       "      <td>married</td>\n",
       "      <td>secondary</td>\n",
       "      <td>no</td>\n",
       "      <td>45</td>\n",
       "      <td>no</td>\n",
       "      <td>no</td>\n",
       "      <td>unknown</td>\n",
       "      <td>5</td>\n",
       "      <td>may</td>\n",
       "      <td>1467</td>\n",
       "      <td>1</td>\n",
       "      <td>-1</td>\n",
       "      <td>0</td>\n",
       "      <td>unknown</td>\n",
       "      <td>yes</td>\n",
       "    </tr>\n",
       "    <tr>\n",
       "      <th>2</th>\n",
       "      <td>41</td>\n",
       "      <td>technician</td>\n",
       "      <td>married</td>\n",
       "      <td>secondary</td>\n",
       "      <td>no</td>\n",
       "      <td>1270</td>\n",
       "      <td>yes</td>\n",
       "      <td>no</td>\n",
       "      <td>unknown</td>\n",
       "      <td>5</td>\n",
       "      <td>may</td>\n",
       "      <td>1389</td>\n",
       "      <td>1</td>\n",
       "      <td>-1</td>\n",
       "      <td>0</td>\n",
       "      <td>unknown</td>\n",
       "      <td>yes</td>\n",
       "    </tr>\n",
       "    <tr>\n",
       "      <th>3</th>\n",
       "      <td>55</td>\n",
       "      <td>services</td>\n",
       "      <td>married</td>\n",
       "      <td>secondary</td>\n",
       "      <td>no</td>\n",
       "      <td>2476</td>\n",
       "      <td>yes</td>\n",
       "      <td>no</td>\n",
       "      <td>unknown</td>\n",
       "      <td>5</td>\n",
       "      <td>may</td>\n",
       "      <td>579</td>\n",
       "      <td>1</td>\n",
       "      <td>-1</td>\n",
       "      <td>0</td>\n",
       "      <td>unknown</td>\n",
       "      <td>yes</td>\n",
       "    </tr>\n",
       "    <tr>\n",
       "      <th>4</th>\n",
       "      <td>54</td>\n",
       "      <td>admin.</td>\n",
       "      <td>married</td>\n",
       "      <td>tertiary</td>\n",
       "      <td>no</td>\n",
       "      <td>184</td>\n",
       "      <td>no</td>\n",
       "      <td>no</td>\n",
       "      <td>unknown</td>\n",
       "      <td>5</td>\n",
       "      <td>may</td>\n",
       "      <td>673</td>\n",
       "      <td>2</td>\n",
       "      <td>-1</td>\n",
       "      <td>0</td>\n",
       "      <td>unknown</td>\n",
       "      <td>yes</td>\n",
       "    </tr>\n",
       "  </tbody>\n",
       "</table>\n",
       "</div>"
      ],
      "text/plain": [
       "   age         job  marital  education default  balance housing loan  contact  \\\n",
       "0   59      admin.  married  secondary      no     2343     yes   no  unknown   \n",
       "1   56      admin.  married  secondary      no       45      no   no  unknown   \n",
       "2   41  technician  married  secondary      no     1270     yes   no  unknown   \n",
       "3   55    services  married  secondary      no     2476     yes   no  unknown   \n",
       "4   54      admin.  married   tertiary      no      184      no   no  unknown   \n",
       "\n",
       "   day month  duration  campaign  pdays  previous poutcome deposit  \n",
       "0    5   may      1042         1     -1         0  unknown     yes  \n",
       "1    5   may      1467         1     -1         0  unknown     yes  \n",
       "2    5   may      1389         1     -1         0  unknown     yes  \n",
       "3    5   may       579         1     -1         0  unknown     yes  \n",
       "4    5   may       673         2     -1         0  unknown     yes  "
      ]
     },
     "execution_count": 7,
     "metadata": {},
     "output_type": "execute_result"
    }
   ],
   "source": [
    "df.head()"
   ]
  },
  {
   "cell_type": "code",
   "execution_count": 9,
   "metadata": {
    "colab": {
     "base_uri": "https://localhost:8080/"
    },
    "id": "sNK5UOiwevNI",
    "outputId": "16372382-9e6c-4220-bb40-6995cea0a957"
   },
   "outputs": [
    {
     "data": {
      "text/plain": [
       "(11162, 17)"
      ]
     },
     "execution_count": 9,
     "metadata": {},
     "output_type": "execute_result"
    }
   ],
   "source": [
    "df.shape"
   ]
  },
  {
   "cell_type": "code",
   "execution_count": 16,
   "metadata": {
    "colab": {
     "base_uri": "https://localhost:8080/",
     "height": 617
    },
    "id": "VSPrLUP0evFf",
    "outputId": "7fec037d-9336-4385-db49-5cf2b90386a7"
   },
   "outputs": [
    {
     "data": {
      "text/plain": [
       "age          0\n",
       "job          0\n",
       "marital      0\n",
       "education    0\n",
       "default      0\n",
       "balance      0\n",
       "housing      0\n",
       "loan         0\n",
       "contact      0\n",
       "day          0\n",
       "month        0\n",
       "duration     0\n",
       "campaign     0\n",
       "pdays        0\n",
       "previous     0\n",
       "poutcome     0\n",
       "deposit      0\n",
       "dtype: int64"
      ]
     },
     "execution_count": 16,
     "metadata": {},
     "output_type": "execute_result"
    }
   ],
   "source": [
    "df.isnull().sum()"
   ]
  },
  {
   "cell_type": "code",
   "execution_count": 18,
   "metadata": {
    "colab": {
     "base_uri": "https://localhost:8080/"
    },
    "id": "lJzA-fAJevB9",
    "outputId": "d46b937c-9747-4ecd-e00a-4ba9d7dcf68f"
   },
   "outputs": [
    {
     "data": {
      "text/plain": [
       "0"
      ]
     },
     "execution_count": 18,
     "metadata": {},
     "output_type": "execute_result"
    }
   ],
   "source": [
    "df.duplicated().sum()"
   ]
  },
  {
   "cell_type": "markdown",
   "metadata": {},
   "source": [
    "Dataset has no missing values"
   ]
  },
  {
   "cell_type": "code",
   "execution_count": 21,
   "metadata": {
    "colab": {
     "base_uri": "https://localhost:8080/"
    },
    "id": "zKsZJn0IevJR",
    "outputId": "5b088232-6203-4999-d29d-7990bb444b58"
   },
   "outputs": [
    {
     "name": "stdout",
     "output_type": "stream",
     "text": [
      "<class 'pandas.core.frame.DataFrame'>\n",
      "RangeIndex: 11162 entries, 0 to 11161\n",
      "Data columns (total 17 columns):\n",
      " #   Column     Non-Null Count  Dtype \n",
      "---  ------     --------------  ----- \n",
      " 0   age        11162 non-null  int64 \n",
      " 1   job        11162 non-null  object\n",
      " 2   marital    11162 non-null  object\n",
      " 3   education  11162 non-null  object\n",
      " 4   default    11162 non-null  object\n",
      " 5   balance    11162 non-null  int64 \n",
      " 6   housing    11162 non-null  object\n",
      " 7   loan       11162 non-null  object\n",
      " 8   contact    11162 non-null  object\n",
      " 9   day        11162 non-null  int64 \n",
      " 10  month      11162 non-null  object\n",
      " 11  duration   11162 non-null  int64 \n",
      " 12  campaign   11162 non-null  int64 \n",
      " 13  pdays      11162 non-null  int64 \n",
      " 14  previous   11162 non-null  int64 \n",
      " 15  poutcome   11162 non-null  object\n",
      " 16  deposit    11162 non-null  object\n",
      "dtypes: int64(7), object(10)\n",
      "memory usage: 1.4+ MB\n"
     ]
    }
   ],
   "source": [
    "df.info()"
   ]
  },
  {
   "cell_type": "code",
   "execution_count": 23,
   "metadata": {
    "colab": {
     "base_uri": "https://localhost:8080/",
     "height": 492
    },
    "id": "mALdhQZjeu-O",
    "outputId": "c5b3fa04-770f-4456-f28c-8f87f08563ab"
   },
   "outputs": [
    {
     "data": {
      "text/plain": [
       "job\n",
       "management       2566\n",
       "blue-collar      1944\n",
       "technician       1823\n",
       "admin.           1334\n",
       "services          923\n",
       "retired           778\n",
       "self-employed     405\n",
       "student           360\n",
       "unemployed        357\n",
       "entrepreneur      328\n",
       "housemaid         274\n",
       "unknown            70\n",
       "Name: count, dtype: int64"
      ]
     },
     "execution_count": 23,
     "metadata": {},
     "output_type": "execute_result"
    }
   ],
   "source": [
    "df[\"job\"].value_counts()"
   ]
  },
  {
   "cell_type": "code",
   "execution_count": 25,
   "metadata": {
    "colab": {
     "base_uri": "https://localhost:8080/",
     "height": 210
    },
    "id": "JMVsnmDjeu6R",
    "outputId": "464dc154-542e-4583-f538-4d6f1fa584ba"
   },
   "outputs": [
    {
     "data": {
      "text/plain": [
       "marital\n",
       "married     6351\n",
       "single      3518\n",
       "divorced    1293\n",
       "Name: count, dtype: int64"
      ]
     },
     "execution_count": 25,
     "metadata": {},
     "output_type": "execute_result"
    }
   ],
   "source": [
    "df[\"marital\"].value_counts()"
   ]
  },
  {
   "cell_type": "code",
   "execution_count": 27,
   "metadata": {
    "colab": {
     "base_uri": "https://localhost:8080/",
     "height": 241
    },
    "id": "BdVMpyQSeu2p",
    "outputId": "0c174fc7-fd79-48cf-a652-997c9b815c5d"
   },
   "outputs": [
    {
     "data": {
      "text/plain": [
       "education\n",
       "secondary    5476\n",
       "tertiary     3689\n",
       "primary      1500\n",
       "unknown       497\n",
       "Name: count, dtype: int64"
      ]
     },
     "execution_count": 27,
     "metadata": {},
     "output_type": "execute_result"
    }
   ],
   "source": [
    "df[\"education\"].value_counts()"
   ]
  },
  {
   "cell_type": "code",
   "execution_count": 29,
   "metadata": {
    "colab": {
     "base_uri": "https://localhost:8080/",
     "height": 178
    },
    "id": "gwVe8nTdeuyj",
    "outputId": "99d98a1d-87a2-4fde-a9ef-9cb914df554e"
   },
   "outputs": [
    {
     "data": {
      "text/plain": [
       "default\n",
       "no     10994\n",
       "yes      168\n",
       "Name: count, dtype: int64"
      ]
     },
     "execution_count": 29,
     "metadata": {},
     "output_type": "execute_result"
    }
   ],
   "source": [
    "df[\"default\"].value_counts()"
   ]
  },
  {
   "cell_type": "code",
   "execution_count": 31,
   "metadata": {
    "colab": {
     "base_uri": "https://localhost:8080/",
     "height": 178
    },
    "id": "CyW1uGh_eutE",
    "outputId": "09266919-ae7f-4781-8ed7-04e9a81c9b43"
   },
   "outputs": [
    {
     "data": {
      "text/plain": [
       "housing\n",
       "no     5881\n",
       "yes    5281\n",
       "Name: count, dtype: int64"
      ]
     },
     "execution_count": 31,
     "metadata": {},
     "output_type": "execute_result"
    }
   ],
   "source": [
    "df[\"housing\"].value_counts()"
   ]
  },
  {
   "cell_type": "code",
   "execution_count": 33,
   "metadata": {
    "colab": {
     "base_uri": "https://localhost:8080/",
     "height": 178
    },
    "id": "U_Y-tfMCeuoj",
    "outputId": "f1428d3b-1f96-4ac6-c8e3-f2b35f5800d2"
   },
   "outputs": [
    {
     "data": {
      "text/plain": [
       "loan\n",
       "no     9702\n",
       "yes    1460\n",
       "Name: count, dtype: int64"
      ]
     },
     "execution_count": 33,
     "metadata": {},
     "output_type": "execute_result"
    }
   ],
   "source": [
    "df[\"loan\"].value_counts()"
   ]
  },
  {
   "cell_type": "code",
   "execution_count": 35,
   "metadata": {
    "colab": {
     "base_uri": "https://localhost:8080/",
     "height": 210
    },
    "id": "gUvUa3r-euiD",
    "outputId": "8dc2b23f-1473-4007-d2d1-f9505c2268f6"
   },
   "outputs": [
    {
     "data": {
      "text/plain": [
       "contact\n",
       "cellular     8042\n",
       "unknown      2346\n",
       "telephone     774\n",
       "Name: count, dtype: int64"
      ]
     },
     "execution_count": 35,
     "metadata": {},
     "output_type": "execute_result"
    }
   ],
   "source": [
    "df[\"contact\"].value_counts()"
   ]
  },
  {
   "cell_type": "code",
   "execution_count": 37,
   "metadata": {
    "colab": {
     "base_uri": "https://localhost:8080/",
     "height": 492
    },
    "id": "wfjVQhV6eud-",
    "outputId": "441ea8b8-f771-4805-b8ee-e62e1d0b91ac"
   },
   "outputs": [
    {
     "data": {
      "text/plain": [
       "month\n",
       "may    2824\n",
       "aug    1519\n",
       "jul    1514\n",
       "jun    1222\n",
       "nov     943\n",
       "apr     923\n",
       "feb     776\n",
       "oct     392\n",
       "jan     344\n",
       "sep     319\n",
       "mar     276\n",
       "dec     110\n",
       "Name: count, dtype: int64"
      ]
     },
     "execution_count": 37,
     "metadata": {},
     "output_type": "execute_result"
    }
   ],
   "source": [
    "df[\"month\"].value_counts()"
   ]
  },
  {
   "cell_type": "code",
   "execution_count": 39,
   "metadata": {
    "colab": {
     "base_uri": "https://localhost:8080/",
     "height": 492
    },
    "id": "7PZSA4rWeuaT",
    "outputId": "cc9634c0-e4d6-4036-e45f-49b1013e7015"
   },
   "outputs": [
    {
     "data": {
      "text/plain": [
       "job\n",
       "management       2566\n",
       "blue-collar      1944\n",
       "technician       1823\n",
       "admin.           1334\n",
       "services          923\n",
       "retired           778\n",
       "self-employed     405\n",
       "student           360\n",
       "unemployed        357\n",
       "entrepreneur      328\n",
       "housemaid         274\n",
       "unknown            70\n",
       "Name: count, dtype: int64"
      ]
     },
     "execution_count": 39,
     "metadata": {},
     "output_type": "execute_result"
    }
   ],
   "source": [
    "df[\"job\"].value_counts()"
   ]
  },
  {
   "cell_type": "code",
   "execution_count": 41,
   "metadata": {
    "colab": {
     "base_uri": "https://localhost:8080/",
     "height": 241
    },
    "id": "Y-FWZJ93euVn",
    "outputId": "f9ee25d1-46d9-48c4-b4a7-887be804fffb"
   },
   "outputs": [
    {
     "data": {
      "text/plain": [
       "poutcome\n",
       "unknown    8326\n",
       "failure    1228\n",
       "success    1071\n",
       "other       537\n",
       "Name: count, dtype: int64"
      ]
     },
     "execution_count": 41,
     "metadata": {},
     "output_type": "execute_result"
    }
   ],
   "source": [
    "df[\"poutcome\"].value_counts()"
   ]
  },
  {
   "cell_type": "code",
   "execution_count": 43,
   "metadata": {
    "colab": {
     "base_uri": "https://localhost:8080/",
     "height": 178
    },
    "id": "Z8sBjRJ3euPm",
    "outputId": "facfd022-2b17-4c1e-b0d0-ba0e370ffa6d"
   },
   "outputs": [
    {
     "data": {
      "text/plain": [
       "deposit\n",
       "no     5873\n",
       "yes    5289\n",
       "Name: count, dtype: int64"
      ]
     },
     "execution_count": 43,
     "metadata": {},
     "output_type": "execute_result"
    }
   ],
   "source": [
    "df[\"deposit\"].value_counts()"
   ]
  },
  {
   "cell_type": "markdown",
   "metadata": {
    "id": "7XoWunM0xG78"
   },
   "source": [
    "#### Encoding categorical columns"
   ]
  },
  {
   "cell_type": "code",
   "execution_count": 45,
   "metadata": {
    "id": "74fCxBGlet__"
   },
   "outputs": [],
   "source": [
    "df['deposit'] = df['deposit'].map({'yes': 1, 'no': 0})\n",
    "df['contact'] = df['contact'].map( {'cellular': 1, 'telephone': 2, 'unknown': 0})\n",
    "df['loan'] = df['loan'].map({'yes': 1, 'no': 0})\n",
    "df['housing'] = df['housing'].map({'yes': 1, 'no': 0})\n",
    "df['default'] = df['default'].map({'yes': 1, 'no': 0})\n",
    "df['marital'] = df['marital'].map({'married': 1, 'single': 2, 'divorced': 3})"
   ]
  },
  {
   "cell_type": "code",
   "execution_count": 47,
   "metadata": {
    "id": "TDygaQBO0kMC"
   },
   "outputs": [],
   "source": [
    "df = pd.get_dummies(df, columns=['job', 'education', 'month', 'poutcome'], drop_first=True)"
   ]
  },
  {
   "cell_type": "code",
   "execution_count": 49,
   "metadata": {
    "id": "ZMoE6zXpet8Z"
   },
   "outputs": [],
   "source": [
    "from sklearn.preprocessing import LabelEncoder\n",
    "\n",
    "# Initialize LabelEncoder\n",
    "le = LabelEncoder()\n",
    "\n",
    "# Encode the 'deposit' column (target variable)\n",
    "df['deposit'] = le.fit_transform(df['deposit'])"
   ]
  },
  {
   "cell_type": "code",
   "execution_count": 51,
   "metadata": {
    "colab": {
     "base_uri": "https://localhost:8080/",
     "height": 256
    },
    "id": "5wDcNqgvet4o",
    "outputId": "1935abf8-84d5-4b52-d792-ac1d6e8bbecf"
   },
   "outputs": [
    {
     "data": {
      "text/html": [
       "<div>\n",
       "<style scoped>\n",
       "    .dataframe tbody tr th:only-of-type {\n",
       "        vertical-align: middle;\n",
       "    }\n",
       "\n",
       "    .dataframe tbody tr th {\n",
       "        vertical-align: top;\n",
       "    }\n",
       "\n",
       "    .dataframe thead th {\n",
       "        text-align: right;\n",
       "    }\n",
       "</style>\n",
       "<table border=\"1\" class=\"dataframe\">\n",
       "  <thead>\n",
       "    <tr style=\"text-align: right;\">\n",
       "      <th></th>\n",
       "      <th>age</th>\n",
       "      <th>marital</th>\n",
       "      <th>default</th>\n",
       "      <th>balance</th>\n",
       "      <th>housing</th>\n",
       "      <th>loan</th>\n",
       "      <th>contact</th>\n",
       "      <th>day</th>\n",
       "      <th>duration</th>\n",
       "      <th>campaign</th>\n",
       "      <th>...</th>\n",
       "      <th>month_jul</th>\n",
       "      <th>month_jun</th>\n",
       "      <th>month_mar</th>\n",
       "      <th>month_may</th>\n",
       "      <th>month_nov</th>\n",
       "      <th>month_oct</th>\n",
       "      <th>month_sep</th>\n",
       "      <th>poutcome_other</th>\n",
       "      <th>poutcome_success</th>\n",
       "      <th>poutcome_unknown</th>\n",
       "    </tr>\n",
       "  </thead>\n",
       "  <tbody>\n",
       "    <tr>\n",
       "      <th>0</th>\n",
       "      <td>59</td>\n",
       "      <td>1</td>\n",
       "      <td>0</td>\n",
       "      <td>2343</td>\n",
       "      <td>1</td>\n",
       "      <td>0</td>\n",
       "      <td>0</td>\n",
       "      <td>5</td>\n",
       "      <td>1042</td>\n",
       "      <td>1</td>\n",
       "      <td>...</td>\n",
       "      <td>False</td>\n",
       "      <td>False</td>\n",
       "      <td>False</td>\n",
       "      <td>True</td>\n",
       "      <td>False</td>\n",
       "      <td>False</td>\n",
       "      <td>False</td>\n",
       "      <td>False</td>\n",
       "      <td>False</td>\n",
       "      <td>True</td>\n",
       "    </tr>\n",
       "    <tr>\n",
       "      <th>1</th>\n",
       "      <td>56</td>\n",
       "      <td>1</td>\n",
       "      <td>0</td>\n",
       "      <td>45</td>\n",
       "      <td>0</td>\n",
       "      <td>0</td>\n",
       "      <td>0</td>\n",
       "      <td>5</td>\n",
       "      <td>1467</td>\n",
       "      <td>1</td>\n",
       "      <td>...</td>\n",
       "      <td>False</td>\n",
       "      <td>False</td>\n",
       "      <td>False</td>\n",
       "      <td>True</td>\n",
       "      <td>False</td>\n",
       "      <td>False</td>\n",
       "      <td>False</td>\n",
       "      <td>False</td>\n",
       "      <td>False</td>\n",
       "      <td>True</td>\n",
       "    </tr>\n",
       "    <tr>\n",
       "      <th>2</th>\n",
       "      <td>41</td>\n",
       "      <td>1</td>\n",
       "      <td>0</td>\n",
       "      <td>1270</td>\n",
       "      <td>1</td>\n",
       "      <td>0</td>\n",
       "      <td>0</td>\n",
       "      <td>5</td>\n",
       "      <td>1389</td>\n",
       "      <td>1</td>\n",
       "      <td>...</td>\n",
       "      <td>False</td>\n",
       "      <td>False</td>\n",
       "      <td>False</td>\n",
       "      <td>True</td>\n",
       "      <td>False</td>\n",
       "      <td>False</td>\n",
       "      <td>False</td>\n",
       "      <td>False</td>\n",
       "      <td>False</td>\n",
       "      <td>True</td>\n",
       "    </tr>\n",
       "    <tr>\n",
       "      <th>3</th>\n",
       "      <td>55</td>\n",
       "      <td>1</td>\n",
       "      <td>0</td>\n",
       "      <td>2476</td>\n",
       "      <td>1</td>\n",
       "      <td>0</td>\n",
       "      <td>0</td>\n",
       "      <td>5</td>\n",
       "      <td>579</td>\n",
       "      <td>1</td>\n",
       "      <td>...</td>\n",
       "      <td>False</td>\n",
       "      <td>False</td>\n",
       "      <td>False</td>\n",
       "      <td>True</td>\n",
       "      <td>False</td>\n",
       "      <td>False</td>\n",
       "      <td>False</td>\n",
       "      <td>False</td>\n",
       "      <td>False</td>\n",
       "      <td>True</td>\n",
       "    </tr>\n",
       "    <tr>\n",
       "      <th>4</th>\n",
       "      <td>54</td>\n",
       "      <td>1</td>\n",
       "      <td>0</td>\n",
       "      <td>184</td>\n",
       "      <td>0</td>\n",
       "      <td>0</td>\n",
       "      <td>0</td>\n",
       "      <td>5</td>\n",
       "      <td>673</td>\n",
       "      <td>2</td>\n",
       "      <td>...</td>\n",
       "      <td>False</td>\n",
       "      <td>False</td>\n",
       "      <td>False</td>\n",
       "      <td>True</td>\n",
       "      <td>False</td>\n",
       "      <td>False</td>\n",
       "      <td>False</td>\n",
       "      <td>False</td>\n",
       "      <td>False</td>\n",
       "      <td>True</td>\n",
       "    </tr>\n",
       "  </tbody>\n",
       "</table>\n",
       "<p>5 rows × 41 columns</p>\n",
       "</div>"
      ],
      "text/plain": [
       "   age  marital  default  balance  housing  loan  contact  day  duration  \\\n",
       "0   59        1        0     2343        1     0        0    5      1042   \n",
       "1   56        1        0       45        0     0        0    5      1467   \n",
       "2   41        1        0     1270        1     0        0    5      1389   \n",
       "3   55        1        0     2476        1     0        0    5       579   \n",
       "4   54        1        0      184        0     0        0    5       673   \n",
       "\n",
       "   campaign  ...  month_jul  month_jun  month_mar  month_may  month_nov  \\\n",
       "0         1  ...      False      False      False       True      False   \n",
       "1         1  ...      False      False      False       True      False   \n",
       "2         1  ...      False      False      False       True      False   \n",
       "3         1  ...      False      False      False       True      False   \n",
       "4         2  ...      False      False      False       True      False   \n",
       "\n",
       "   month_oct  month_sep  poutcome_other  poutcome_success  poutcome_unknown  \n",
       "0      False      False           False             False              True  \n",
       "1      False      False           False             False              True  \n",
       "2      False      False           False             False              True  \n",
       "3      False      False           False             False              True  \n",
       "4      False      False           False             False              True  \n",
       "\n",
       "[5 rows x 41 columns]"
      ]
     },
     "execution_count": 51,
     "metadata": {},
     "output_type": "execute_result"
    }
   ],
   "source": [
    "df.head()"
   ]
  },
  {
   "cell_type": "code",
   "execution_count": 53,
   "metadata": {
    "colab": {
     "base_uri": "https://localhost:8080/"
    },
    "id": "4Dh9l9h1et1N",
    "outputId": "e0b42c0b-93b2-44a5-a018-c500e0a8a6f8"
   },
   "outputs": [
    {
     "name": "stdout",
     "output_type": "stream",
     "text": [
      "<class 'pandas.core.frame.DataFrame'>\n",
      "RangeIndex: 11162 entries, 0 to 11161\n",
      "Data columns (total 41 columns):\n",
      " #   Column               Non-Null Count  Dtype\n",
      "---  ------               --------------  -----\n",
      " 0   age                  11162 non-null  int64\n",
      " 1   marital              11162 non-null  int64\n",
      " 2   default              11162 non-null  int64\n",
      " 3   balance              11162 non-null  int64\n",
      " 4   housing              11162 non-null  int64\n",
      " 5   loan                 11162 non-null  int64\n",
      " 6   contact              11162 non-null  int64\n",
      " 7   day                  11162 non-null  int64\n",
      " 8   duration             11162 non-null  int64\n",
      " 9   campaign             11162 non-null  int64\n",
      " 10  pdays                11162 non-null  int64\n",
      " 11  previous             11162 non-null  int64\n",
      " 12  deposit              11162 non-null  int64\n",
      " 13  job_blue-collar      11162 non-null  bool \n",
      " 14  job_entrepreneur     11162 non-null  bool \n",
      " 15  job_housemaid        11162 non-null  bool \n",
      " 16  job_management       11162 non-null  bool \n",
      " 17  job_retired          11162 non-null  bool \n",
      " 18  job_self-employed    11162 non-null  bool \n",
      " 19  job_services         11162 non-null  bool \n",
      " 20  job_student          11162 non-null  bool \n",
      " 21  job_technician       11162 non-null  bool \n",
      " 22  job_unemployed       11162 non-null  bool \n",
      " 23  job_unknown          11162 non-null  bool \n",
      " 24  education_secondary  11162 non-null  bool \n",
      " 25  education_tertiary   11162 non-null  bool \n",
      " 26  education_unknown    11162 non-null  bool \n",
      " 27  month_aug            11162 non-null  bool \n",
      " 28  month_dec            11162 non-null  bool \n",
      " 29  month_feb            11162 non-null  bool \n",
      " 30  month_jan            11162 non-null  bool \n",
      " 31  month_jul            11162 non-null  bool \n",
      " 32  month_jun            11162 non-null  bool \n",
      " 33  month_mar            11162 non-null  bool \n",
      " 34  month_may            11162 non-null  bool \n",
      " 35  month_nov            11162 non-null  bool \n",
      " 36  month_oct            11162 non-null  bool \n",
      " 37  month_sep            11162 non-null  bool \n",
      " 38  poutcome_other       11162 non-null  bool \n",
      " 39  poutcome_success     11162 non-null  bool \n",
      " 40  poutcome_unknown     11162 non-null  bool \n",
      "dtypes: bool(28), int64(13)\n",
      "memory usage: 1.4 MB\n"
     ]
    }
   ],
   "source": [
    "df.info()"
   ]
  },
  {
   "cell_type": "markdown",
   "metadata": {},
   "source": [
    "**Deep learning**"
   ]
  },
  {
   "cell_type": "code",
   "execution_count": 55,
   "metadata": {
    "id": "cKriQJ74etxu"
   },
   "outputs": [],
   "source": [
    "import tensorflow as tf  # TensorFlow library for building neural networks\n",
    "from tensorflow.keras.models import Sequential  # Sequential model for building a feedforward neural network\n",
    "from tensorflow.keras.layers import Dense, Dropout  # Dense layer for fully connected layers\n",
    "from tensorflow.keras.callbacks import EarlyStopping\n",
    "from tensorflow.keras.optimizers import Adam  # Adam optimizer for gradient descent\n",
    "from sklearn.model_selection import train_test_split  # Function to split data into training and test sets\n",
    "from sklearn.preprocessing import StandardScaler  # Standardization of features (scaling)"
   ]
  },
  {
   "cell_type": "markdown",
   "metadata": {
    "id": "GC_M2C_32hhr"
   },
   "source": [
    "#### Splitting the dataset"
   ]
  },
  {
   "cell_type": "code",
   "execution_count": 61,
   "metadata": {
    "id": "2gawbl2_2VbJ"
   },
   "outputs": [],
   "source": [
    "X = df.drop(columns=[\"deposit\"])\n",
    "y = df[\"deposit\"]\n",
    "\n",
    "X_train, X_test, y_train, y_test = train_test_split(X, y, test_size=0.2, random_state=42)"
   ]
  },
  {
   "cell_type": "code",
   "execution_count": 63,
   "metadata": {
    "colab": {
     "base_uri": "https://localhost:8080/"
    },
    "id": "QvJzWvfF27VN",
    "outputId": "ea6fedef-9a11-4919-82b1-22f508958e49"
   },
   "outputs": [
    {
     "data": {
      "text/plain": [
       "(8929, 40)"
      ]
     },
     "execution_count": 63,
     "metadata": {},
     "output_type": "execute_result"
    }
   ],
   "source": [
    "X_train.shape"
   ]
  },
  {
   "cell_type": "markdown",
   "metadata": {
    "id": "yhYMvx883hcw"
   },
   "source": [
    "#### Scaling my data"
   ]
  },
  {
   "cell_type": "code",
   "execution_count": 65,
   "metadata": {
    "id": "Rd5icVMI3gfh"
   },
   "outputs": [],
   "source": [
    "scaler = StandardScaler()\n",
    "X_train = scaler.fit_transform(X_train)\n",
    "X_test = scaler.transform(X_test)"
   ]
  },
  {
   "cell_type": "markdown",
   "metadata": {
    "id": "FU592_hr2t9m"
   },
   "source": [
    "#### Building my model"
   ]
  },
  {
   "cell_type": "code",
   "execution_count": 67,
   "metadata": {
    "id": "RizklZbX2VXJ"
   },
   "outputs": [],
   "source": [
    "model = Sequential()\n",
    "\n",
    "#input layer\n",
    "model.add(Dense(64, activation='relu', input_dim=X_train.shape[1]))\n",
    "model.add(Dropout(0.3))\n",
    "\n",
    "#hidden layers\n",
    "model.add(Dense(32, activation='relu'))\n",
    "model.add(Dense(16, activation='relu'))\n",
    "\n",
    "#output layer\n",
    "model.add(Dense(1, activation='sigmoid'))\n",
    "\n",
    "#Compiling the layers\n",
    "model.compile(optimizer=Adam(learning_rate=0.0001), loss='binary_crossentropy', metrics=['accuracy'])"
   ]
  },
  {
   "cell_type": "code",
   "execution_count": 69,
   "metadata": {
    "id": "pnLSX_xh54SS"
   },
   "outputs": [],
   "source": [
    "early_stopping = EarlyStopping(monitor='val_loss', patience=10, restore_best_weights=True)"
   ]
  },
  {
   "cell_type": "code",
   "execution_count": 71,
   "metadata": {
    "colab": {
     "base_uri": "https://localhost:8080/"
    },
    "id": "Oj5B5tLr2VTv",
    "outputId": "b9e2d9c8-e35c-4b7c-a80e-8441f002062b"
   },
   "outputs": [
    {
     "name": "stdout",
     "output_type": "stream",
     "text": [
      "Epoch 1/100\n",
      "\u001b[1m280/280\u001b[0m \u001b[32m━━━━━━━━━━━━━━━━━━━━\u001b[0m\u001b[37m\u001b[0m \u001b[1m5s\u001b[0m 5ms/step - accuracy: 0.5303 - loss: 0.7127 - val_accuracy: 0.6588 - val_loss: 0.6391\n",
      "Epoch 2/100\n",
      "\u001b[1m280/280\u001b[0m \u001b[32m━━━━━━━━━━━━━━━━━━━━\u001b[0m\u001b[37m\u001b[0m \u001b[1m2s\u001b[0m 3ms/step - accuracy: 0.6489 - loss: 0.6377 - val_accuracy: 0.7358 - val_loss: 0.5766\n",
      "Epoch 3/100\n",
      "\u001b[1m280/280\u001b[0m \u001b[32m━━━━━━━━━━━━━━━━━━━━\u001b[0m\u001b[37m\u001b[0m \u001b[1m1s\u001b[0m 3ms/step - accuracy: 0.7074 - loss: 0.5876 - val_accuracy: 0.7653 - val_loss: 0.5170\n",
      "Epoch 4/100\n",
      "\u001b[1m280/280\u001b[0m \u001b[32m━━━━━━━━━━━━━━━━━━━━\u001b[0m\u001b[37m\u001b[0m \u001b[1m1s\u001b[0m 3ms/step - accuracy: 0.7328 - loss: 0.5405 - val_accuracy: 0.7819 - val_loss: 0.4762\n",
      "Epoch 5/100\n",
      "\u001b[1m280/280\u001b[0m \u001b[32m━━━━━━━━━━━━━━━━━━━━\u001b[0m\u001b[37m\u001b[0m \u001b[1m1s\u001b[0m 3ms/step - accuracy: 0.7569 - loss: 0.5106 - val_accuracy: 0.8003 - val_loss: 0.4499\n",
      "Epoch 6/100\n",
      "\u001b[1m280/280\u001b[0m \u001b[32m━━━━━━━━━━━━━━━━━━━━\u001b[0m\u001b[37m\u001b[0m \u001b[1m1s\u001b[0m 4ms/step - accuracy: 0.7691 - loss: 0.4935 - val_accuracy: 0.8047 - val_loss: 0.4319\n",
      "Epoch 7/100\n",
      "\u001b[1m280/280\u001b[0m \u001b[32m━━━━━━━━━━━━━━━━━━━━\u001b[0m\u001b[37m\u001b[0m \u001b[1m1s\u001b[0m 3ms/step - accuracy: 0.7809 - loss: 0.4685 - val_accuracy: 0.8133 - val_loss: 0.4214\n",
      "Epoch 8/100\n",
      "\u001b[1m280/280\u001b[0m \u001b[32m━━━━━━━━━━━━━━━━━━━━\u001b[0m\u001b[37m\u001b[0m \u001b[1m1s\u001b[0m 3ms/step - accuracy: 0.7843 - loss: 0.4538 - val_accuracy: 0.8173 - val_loss: 0.4145\n",
      "Epoch 9/100\n",
      "\u001b[1m280/280\u001b[0m \u001b[32m━━━━━━━━━━━━━━━━━━━━\u001b[0m\u001b[37m\u001b[0m \u001b[1m1s\u001b[0m 3ms/step - accuracy: 0.7976 - loss: 0.4439 - val_accuracy: 0.8182 - val_loss: 0.4096\n",
      "Epoch 10/100\n",
      "\u001b[1m280/280\u001b[0m \u001b[32m━━━━━━━━━━━━━━━━━━━━\u001b[0m\u001b[37m\u001b[0m \u001b[1m1s\u001b[0m 4ms/step - accuracy: 0.7984 - loss: 0.4336 - val_accuracy: 0.8227 - val_loss: 0.4053\n",
      "Epoch 11/100\n",
      "\u001b[1m280/280\u001b[0m \u001b[32m━━━━━━━━━━━━━━━━━━━━\u001b[0m\u001b[37m\u001b[0m \u001b[1m1s\u001b[0m 4ms/step - accuracy: 0.8047 - loss: 0.4408 - val_accuracy: 0.8236 - val_loss: 0.4014\n",
      "Epoch 12/100\n",
      "\u001b[1m280/280\u001b[0m \u001b[32m━━━━━━━━━━━━━━━━━━━━\u001b[0m\u001b[37m\u001b[0m \u001b[1m1s\u001b[0m 3ms/step - accuracy: 0.8168 - loss: 0.4204 - val_accuracy: 0.8253 - val_loss: 0.3992\n",
      "Epoch 13/100\n",
      "\u001b[1m280/280\u001b[0m \u001b[32m━━━━━━━━━━━━━━━━━━━━\u001b[0m\u001b[37m\u001b[0m \u001b[1m1s\u001b[0m 5ms/step - accuracy: 0.8152 - loss: 0.4190 - val_accuracy: 0.8289 - val_loss: 0.3961\n",
      "Epoch 14/100\n",
      "\u001b[1m280/280\u001b[0m \u001b[32m━━━━━━━━━━━━━━━━━━━━\u001b[0m\u001b[37m\u001b[0m \u001b[1m1s\u001b[0m 3ms/step - accuracy: 0.8202 - loss: 0.4128 - val_accuracy: 0.8276 - val_loss: 0.3934\n",
      "Epoch 15/100\n",
      "\u001b[1m280/280\u001b[0m \u001b[32m━━━━━━━━━━━━━━━━━━━━\u001b[0m\u001b[37m\u001b[0m \u001b[1m1s\u001b[0m 3ms/step - accuracy: 0.8102 - loss: 0.4170 - val_accuracy: 0.8307 - val_loss: 0.3920\n",
      "Epoch 16/100\n",
      "\u001b[1m280/280\u001b[0m \u001b[32m━━━━━━━━━━━━━━━━━━━━\u001b[0m\u001b[37m\u001b[0m \u001b[1m1s\u001b[0m 3ms/step - accuracy: 0.8299 - loss: 0.3967 - val_accuracy: 0.8289 - val_loss: 0.3899\n",
      "Epoch 17/100\n",
      "\u001b[1m280/280\u001b[0m \u001b[32m━━━━━━━━━━━━━━━━━━━━\u001b[0m\u001b[37m\u001b[0m \u001b[1m1s\u001b[0m 3ms/step - accuracy: 0.8209 - loss: 0.4124 - val_accuracy: 0.8321 - val_loss: 0.3885\n",
      "Epoch 18/100\n",
      "\u001b[1m280/280\u001b[0m \u001b[32m━━━━━━━━━━━━━━━━━━━━\u001b[0m\u001b[37m\u001b[0m \u001b[1m1s\u001b[0m 3ms/step - accuracy: 0.8309 - loss: 0.4013 - val_accuracy: 0.8312 - val_loss: 0.3857\n",
      "Epoch 19/100\n",
      "\u001b[1m280/280\u001b[0m \u001b[32m━━━━━━━━━━━━━━━━━━━━\u001b[0m\u001b[37m\u001b[0m \u001b[1m1s\u001b[0m 3ms/step - accuracy: 0.8251 - loss: 0.3955 - val_accuracy: 0.8312 - val_loss: 0.3844\n",
      "Epoch 20/100\n",
      "\u001b[1m280/280\u001b[0m \u001b[32m━━━━━━━━━━━━━━━━━━━━\u001b[0m\u001b[37m\u001b[0m \u001b[1m1s\u001b[0m 4ms/step - accuracy: 0.8319 - loss: 0.3943 - val_accuracy: 0.8316 - val_loss: 0.3835\n",
      "Epoch 21/100\n",
      "\u001b[1m280/280\u001b[0m \u001b[32m━━━━━━━━━━━━━━━━━━━━\u001b[0m\u001b[37m\u001b[0m \u001b[1m1s\u001b[0m 3ms/step - accuracy: 0.8188 - loss: 0.4100 - val_accuracy: 0.8298 - val_loss: 0.3830\n",
      "Epoch 22/100\n",
      "\u001b[1m280/280\u001b[0m \u001b[32m━━━━━━━━━━━━━━━━━━━━\u001b[0m\u001b[37m\u001b[0m \u001b[1m1s\u001b[0m 3ms/step - accuracy: 0.8262 - loss: 0.3977 - val_accuracy: 0.8298 - val_loss: 0.3819\n",
      "Epoch 23/100\n",
      "\u001b[1m280/280\u001b[0m \u001b[32m━━━━━━━━━━━━━━━━━━━━\u001b[0m\u001b[37m\u001b[0m \u001b[1m1s\u001b[0m 3ms/step - accuracy: 0.8364 - loss: 0.3809 - val_accuracy: 0.8298 - val_loss: 0.3806\n",
      "Epoch 24/100\n",
      "\u001b[1m280/280\u001b[0m \u001b[32m━━━━━━━━━━━━━━━━━━━━\u001b[0m\u001b[37m\u001b[0m \u001b[1m1s\u001b[0m 4ms/step - accuracy: 0.8331 - loss: 0.3869 - val_accuracy: 0.8294 - val_loss: 0.3803\n",
      "Epoch 25/100\n",
      "\u001b[1m280/280\u001b[0m \u001b[32m━━━━━━━━━━━━━━━━━━━━\u001b[0m\u001b[37m\u001b[0m \u001b[1m1s\u001b[0m 4ms/step - accuracy: 0.8342 - loss: 0.3778 - val_accuracy: 0.8285 - val_loss: 0.3790\n",
      "Epoch 26/100\n",
      "\u001b[1m280/280\u001b[0m \u001b[32m━━━━━━━━━━━━━━━━━━━━\u001b[0m\u001b[37m\u001b[0m \u001b[1m1s\u001b[0m 4ms/step - accuracy: 0.8353 - loss: 0.3787 - val_accuracy: 0.8307 - val_loss: 0.3788\n",
      "Epoch 27/100\n",
      "\u001b[1m280/280\u001b[0m \u001b[32m━━━━━━━━━━━━━━━━━━━━\u001b[0m\u001b[37m\u001b[0m \u001b[1m1s\u001b[0m 5ms/step - accuracy: 0.8355 - loss: 0.3777 - val_accuracy: 0.8303 - val_loss: 0.3782\n",
      "Epoch 28/100\n",
      "\u001b[1m280/280\u001b[0m \u001b[32m━━━━━━━━━━━━━━━━━━━━\u001b[0m\u001b[37m\u001b[0m \u001b[1m1s\u001b[0m 4ms/step - accuracy: 0.8307 - loss: 0.3872 - val_accuracy: 0.8298 - val_loss: 0.3772\n",
      "Epoch 29/100\n",
      "\u001b[1m280/280\u001b[0m \u001b[32m━━━━━━━━━━━━━━━━━━━━\u001b[0m\u001b[37m\u001b[0m \u001b[1m1s\u001b[0m 3ms/step - accuracy: 0.8245 - loss: 0.3854 - val_accuracy: 0.8298 - val_loss: 0.3771\n",
      "Epoch 30/100\n",
      "\u001b[1m280/280\u001b[0m \u001b[32m━━━━━━━━━━━━━━━━━━━━\u001b[0m\u001b[37m\u001b[0m \u001b[1m1s\u001b[0m 4ms/step - accuracy: 0.8399 - loss: 0.3714 - val_accuracy: 0.8294 - val_loss: 0.3763\n",
      "Epoch 31/100\n",
      "\u001b[1m280/280\u001b[0m \u001b[32m━━━━━━━━━━━━━━━━━━━━\u001b[0m\u001b[37m\u001b[0m \u001b[1m1s\u001b[0m 4ms/step - accuracy: 0.8340 - loss: 0.3700 - val_accuracy: 0.8289 - val_loss: 0.3761\n",
      "Epoch 32/100\n",
      "\u001b[1m280/280\u001b[0m \u001b[32m━━━━━━━━━━━━━━━━━━━━\u001b[0m\u001b[37m\u001b[0m \u001b[1m1s\u001b[0m 4ms/step - accuracy: 0.8358 - loss: 0.3767 - val_accuracy: 0.8294 - val_loss: 0.3761\n",
      "Epoch 33/100\n",
      "\u001b[1m280/280\u001b[0m \u001b[32m━━━━━━━━━━━━━━━━━━━━\u001b[0m\u001b[37m\u001b[0m \u001b[1m1s\u001b[0m 4ms/step - accuracy: 0.8454 - loss: 0.3657 - val_accuracy: 0.8289 - val_loss: 0.3753\n",
      "Epoch 34/100\n",
      "\u001b[1m280/280\u001b[0m \u001b[32m━━━━━━━━━━━━━━━━━━━━\u001b[0m\u001b[37m\u001b[0m \u001b[1m1s\u001b[0m 4ms/step - accuracy: 0.8342 - loss: 0.3835 - val_accuracy: 0.8312 - val_loss: 0.3753\n",
      "Epoch 35/100\n",
      "\u001b[1m280/280\u001b[0m \u001b[32m━━━━━━━━━━━━━━━━━━━━\u001b[0m\u001b[37m\u001b[0m \u001b[1m1s\u001b[0m 4ms/step - accuracy: 0.8371 - loss: 0.3714 - val_accuracy: 0.8334 - val_loss: 0.3756\n",
      "Epoch 36/100\n",
      "\u001b[1m280/280\u001b[0m \u001b[32m━━━━━━━━━━━━━━━━━━━━\u001b[0m\u001b[37m\u001b[0m \u001b[1m1s\u001b[0m 4ms/step - accuracy: 0.8423 - loss: 0.3714 - val_accuracy: 0.8325 - val_loss: 0.3749\n",
      "Epoch 37/100\n",
      "\u001b[1m280/280\u001b[0m \u001b[32m━━━━━━━━━━━━━━━━━━━━\u001b[0m\u001b[37m\u001b[0m \u001b[1m1s\u001b[0m 4ms/step - accuracy: 0.8402 - loss: 0.3738 - val_accuracy: 0.8334 - val_loss: 0.3740\n",
      "Epoch 38/100\n",
      "\u001b[1m280/280\u001b[0m \u001b[32m━━━━━━━━━━━━━━━━━━━━\u001b[0m\u001b[37m\u001b[0m \u001b[1m1s\u001b[0m 4ms/step - accuracy: 0.8394 - loss: 0.3715 - val_accuracy: 0.8294 - val_loss: 0.3732\n",
      "Epoch 39/100\n",
      "\u001b[1m280/280\u001b[0m \u001b[32m━━━━━━━━━━━━━━━━━━━━\u001b[0m\u001b[37m\u001b[0m \u001b[1m1s\u001b[0m 4ms/step - accuracy: 0.8396 - loss: 0.3738 - val_accuracy: 0.8330 - val_loss: 0.3728\n",
      "Epoch 40/100\n",
      "\u001b[1m280/280\u001b[0m \u001b[32m━━━━━━━━━━━━━━━━━━━━\u001b[0m\u001b[37m\u001b[0m \u001b[1m1s\u001b[0m 4ms/step - accuracy: 0.8501 - loss: 0.3630 - val_accuracy: 0.8325 - val_loss: 0.3724\n",
      "Epoch 41/100\n",
      "\u001b[1m280/280\u001b[0m \u001b[32m━━━━━━━━━━━━━━━━━━━━\u001b[0m\u001b[37m\u001b[0m \u001b[1m1s\u001b[0m 4ms/step - accuracy: 0.8481 - loss: 0.3626 - val_accuracy: 0.8352 - val_loss: 0.3728\n",
      "Epoch 42/100\n",
      "\u001b[1m280/280\u001b[0m \u001b[32m━━━━━━━━━━━━━━━━━━━━\u001b[0m\u001b[37m\u001b[0m \u001b[1m1s\u001b[0m 4ms/step - accuracy: 0.8510 - loss: 0.3532 - val_accuracy: 0.8339 - val_loss: 0.3714\n",
      "Epoch 43/100\n",
      "\u001b[1m280/280\u001b[0m \u001b[32m━━━━━━━━━━━━━━━━━━━━\u001b[0m\u001b[37m\u001b[0m \u001b[1m1s\u001b[0m 4ms/step - accuracy: 0.8455 - loss: 0.3647 - val_accuracy: 0.8334 - val_loss: 0.3711\n",
      "Epoch 44/100\n",
      "\u001b[1m280/280\u001b[0m \u001b[32m━━━━━━━━━━━━━━━━━━━━\u001b[0m\u001b[37m\u001b[0m \u001b[1m1s\u001b[0m 5ms/step - accuracy: 0.8431 - loss: 0.3602 - val_accuracy: 0.8343 - val_loss: 0.3708\n",
      "Epoch 45/100\n",
      "\u001b[1m280/280\u001b[0m \u001b[32m━━━━━━━━━━━━━━━━━━━━\u001b[0m\u001b[37m\u001b[0m \u001b[1m1s\u001b[0m 4ms/step - accuracy: 0.8422 - loss: 0.3672 - val_accuracy: 0.8334 - val_loss: 0.3703\n",
      "Epoch 46/100\n",
      "\u001b[1m280/280\u001b[0m \u001b[32m━━━━━━━━━━━━━━━━━━━━\u001b[0m\u001b[37m\u001b[0m \u001b[1m1s\u001b[0m 4ms/step - accuracy: 0.8437 - loss: 0.3661 - val_accuracy: 0.8316 - val_loss: 0.3702\n",
      "Epoch 47/100\n",
      "\u001b[1m280/280\u001b[0m \u001b[32m━━━━━━━━━━━━━━━━━━━━\u001b[0m\u001b[37m\u001b[0m \u001b[1m1s\u001b[0m 4ms/step - accuracy: 0.8462 - loss: 0.3647 - val_accuracy: 0.8334 - val_loss: 0.3699\n",
      "Epoch 48/100\n",
      "\u001b[1m280/280\u001b[0m \u001b[32m━━━━━━━━━━━━━━━━━━━━\u001b[0m\u001b[37m\u001b[0m \u001b[1m1s\u001b[0m 4ms/step - accuracy: 0.8424 - loss: 0.3679 - val_accuracy: 0.8343 - val_loss: 0.3699\n",
      "Epoch 49/100\n",
      "\u001b[1m280/280\u001b[0m \u001b[32m━━━━━━━━━━━━━━━━━━━━\u001b[0m\u001b[37m\u001b[0m \u001b[1m1s\u001b[0m 5ms/step - accuracy: 0.8443 - loss: 0.3618 - val_accuracy: 0.8352 - val_loss: 0.3702\n",
      "Epoch 50/100\n",
      "\u001b[1m280/280\u001b[0m \u001b[32m━━━━━━━━━━━━━━━━━━━━\u001b[0m\u001b[37m\u001b[0m \u001b[1m2s\u001b[0m 5ms/step - accuracy: 0.8467 - loss: 0.3483 - val_accuracy: 0.8330 - val_loss: 0.3690\n",
      "Epoch 51/100\n",
      "\u001b[1m280/280\u001b[0m \u001b[32m━━━━━━━━━━━━━━━━━━━━\u001b[0m\u001b[37m\u001b[0m \u001b[1m1s\u001b[0m 4ms/step - accuracy: 0.8481 - loss: 0.3610 - val_accuracy: 0.8361 - val_loss: 0.3686\n",
      "Epoch 52/100\n",
      "\u001b[1m280/280\u001b[0m \u001b[32m━━━━━━━━━━━━━━━━━━━━\u001b[0m\u001b[37m\u001b[0m \u001b[1m1s\u001b[0m 3ms/step - accuracy: 0.8519 - loss: 0.3584 - val_accuracy: 0.8383 - val_loss: 0.3689\n",
      "Epoch 53/100\n",
      "\u001b[1m280/280\u001b[0m \u001b[32m━━━━━━━━━━━━━━━━━━━━\u001b[0m\u001b[37m\u001b[0m \u001b[1m1s\u001b[0m 4ms/step - accuracy: 0.8507 - loss: 0.3517 - val_accuracy: 0.8374 - val_loss: 0.3687\n",
      "Epoch 54/100\n",
      "\u001b[1m280/280\u001b[0m \u001b[32m━━━━━━━━━━━━━━━━━━━━\u001b[0m\u001b[37m\u001b[0m \u001b[1m1s\u001b[0m 4ms/step - accuracy: 0.8506 - loss: 0.3503 - val_accuracy: 0.8325 - val_loss: 0.3677\n",
      "Epoch 55/100\n",
      "\u001b[1m280/280\u001b[0m \u001b[32m━━━━━━━━━━━━━━━━━━━━\u001b[0m\u001b[37m\u001b[0m \u001b[1m1s\u001b[0m 4ms/step - accuracy: 0.8474 - loss: 0.3585 - val_accuracy: 0.8365 - val_loss: 0.3690\n",
      "Epoch 56/100\n",
      "\u001b[1m280/280\u001b[0m \u001b[32m━━━━━━━━━━━━━━━━━━━━\u001b[0m\u001b[37m\u001b[0m \u001b[1m1s\u001b[0m 5ms/step - accuracy: 0.8426 - loss: 0.3633 - val_accuracy: 0.8370 - val_loss: 0.3687\n",
      "Epoch 57/100\n",
      "\u001b[1m280/280\u001b[0m \u001b[32m━━━━━━━━━━━━━━━━━━━━\u001b[0m\u001b[37m\u001b[0m \u001b[1m1s\u001b[0m 4ms/step - accuracy: 0.8503 - loss: 0.3489 - val_accuracy: 0.8370 - val_loss: 0.3686\n",
      "Epoch 58/100\n",
      "\u001b[1m280/280\u001b[0m \u001b[32m━━━━━━━━━━━━━━━━━━━━\u001b[0m\u001b[37m\u001b[0m \u001b[1m1s\u001b[0m 4ms/step - accuracy: 0.8466 - loss: 0.3551 - val_accuracy: 0.8361 - val_loss: 0.3679\n",
      "Epoch 59/100\n",
      "\u001b[1m280/280\u001b[0m \u001b[32m━━━━━━━━━━━━━━━━━━━━\u001b[0m\u001b[37m\u001b[0m \u001b[1m1s\u001b[0m 4ms/step - accuracy: 0.8508 - loss: 0.3537 - val_accuracy: 0.8348 - val_loss: 0.3671\n",
      "Epoch 60/100\n",
      "\u001b[1m280/280\u001b[0m \u001b[32m━━━━━━━━━━━━━━━━━━━━\u001b[0m\u001b[37m\u001b[0m \u001b[1m1s\u001b[0m 4ms/step - accuracy: 0.8518 - loss: 0.3517 - val_accuracy: 0.8330 - val_loss: 0.3672\n",
      "Epoch 61/100\n",
      "\u001b[1m280/280\u001b[0m \u001b[32m━━━━━━━━━━━━━━━━━━━━\u001b[0m\u001b[37m\u001b[0m \u001b[1m1s\u001b[0m 4ms/step - accuracy: 0.8493 - loss: 0.3531 - val_accuracy: 0.8356 - val_loss: 0.3679\n",
      "Epoch 62/100\n",
      "\u001b[1m280/280\u001b[0m \u001b[32m━━━━━━━━━━━━━━━━━━━━\u001b[0m\u001b[37m\u001b[0m \u001b[1m1s\u001b[0m 3ms/step - accuracy: 0.8517 - loss: 0.3585 - val_accuracy: 0.8356 - val_loss: 0.3671\n",
      "Epoch 63/100\n",
      "\u001b[1m280/280\u001b[0m \u001b[32m━━━━━━━━━━━━━━━━━━━━\u001b[0m\u001b[37m\u001b[0m \u001b[1m1s\u001b[0m 4ms/step - accuracy: 0.8464 - loss: 0.3573 - val_accuracy: 0.8321 - val_loss: 0.3670\n",
      "Epoch 64/100\n",
      "\u001b[1m280/280\u001b[0m \u001b[32m━━━━━━━━━━━━━━━━━━━━\u001b[0m\u001b[37m\u001b[0m \u001b[1m1s\u001b[0m 4ms/step - accuracy: 0.8508 - loss: 0.3478 - val_accuracy: 0.8339 - val_loss: 0.3674\n",
      "Epoch 65/100\n",
      "\u001b[1m280/280\u001b[0m \u001b[32m━━━━━━━━━━━━━━━━━━━━\u001b[0m\u001b[37m\u001b[0m \u001b[1m1s\u001b[0m 4ms/step - accuracy: 0.8563 - loss: 0.3414 - val_accuracy: 0.8352 - val_loss: 0.3664\n",
      "Epoch 66/100\n",
      "\u001b[1m280/280\u001b[0m \u001b[32m━━━━━━━━━━━━━━━━━━━━\u001b[0m\u001b[37m\u001b[0m \u001b[1m1s\u001b[0m 4ms/step - accuracy: 0.8540 - loss: 0.3455 - val_accuracy: 0.8379 - val_loss: 0.3663\n",
      "Epoch 67/100\n",
      "\u001b[1m280/280\u001b[0m \u001b[32m━━━━━━━━━━━━━━━━━━━━\u001b[0m\u001b[37m\u001b[0m \u001b[1m1s\u001b[0m 4ms/step - accuracy: 0.8516 - loss: 0.3515 - val_accuracy: 0.8356 - val_loss: 0.3668\n",
      "Epoch 68/100\n",
      "\u001b[1m280/280\u001b[0m \u001b[32m━━━━━━━━━━━━━━━━━━━━\u001b[0m\u001b[37m\u001b[0m \u001b[1m1s\u001b[0m 4ms/step - accuracy: 0.8538 - loss: 0.3441 - val_accuracy: 0.8343 - val_loss: 0.3670\n",
      "Epoch 69/100\n",
      "\u001b[1m280/280\u001b[0m \u001b[32m━━━━━━━━━━━━━━━━━━━━\u001b[0m\u001b[37m\u001b[0m \u001b[1m1s\u001b[0m 4ms/step - accuracy: 0.8472 - loss: 0.3463 - val_accuracy: 0.8356 - val_loss: 0.3678\n",
      "Epoch 70/100\n",
      "\u001b[1m280/280\u001b[0m \u001b[32m━━━━━━━━━━━━━━━━━━━━\u001b[0m\u001b[37m\u001b[0m \u001b[1m1s\u001b[0m 4ms/step - accuracy: 0.8494 - loss: 0.3577 - val_accuracy: 0.8339 - val_loss: 0.3674\n",
      "Epoch 71/100\n",
      "\u001b[1m280/280\u001b[0m \u001b[32m━━━━━━━━━━━━━━━━━━━━\u001b[0m\u001b[37m\u001b[0m \u001b[1m1s\u001b[0m 4ms/step - accuracy: 0.8499 - loss: 0.3480 - val_accuracy: 0.8348 - val_loss: 0.3664\n",
      "Epoch 72/100\n",
      "\u001b[1m280/280\u001b[0m \u001b[32m━━━━━━━━━━━━━━━━━━━━\u001b[0m\u001b[37m\u001b[0m \u001b[1m1s\u001b[0m 4ms/step - accuracy: 0.8552 - loss: 0.3397 - val_accuracy: 0.8352 - val_loss: 0.3659\n",
      "Epoch 73/100\n",
      "\u001b[1m280/280\u001b[0m \u001b[32m━━━━━━━━━━━━━━━━━━━━\u001b[0m\u001b[37m\u001b[0m \u001b[1m1s\u001b[0m 4ms/step - accuracy: 0.8572 - loss: 0.3402 - val_accuracy: 0.8343 - val_loss: 0.3654\n",
      "Epoch 74/100\n",
      "\u001b[1m280/280\u001b[0m \u001b[32m━━━━━━━━━━━━━━━━━━━━\u001b[0m\u001b[37m\u001b[0m \u001b[1m1s\u001b[0m 4ms/step - accuracy: 0.8596 - loss: 0.3341 - val_accuracy: 0.8348 - val_loss: 0.3652\n",
      "Epoch 75/100\n",
      "\u001b[1m280/280\u001b[0m \u001b[32m━━━━━━━━━━━━━━━━━━━━\u001b[0m\u001b[37m\u001b[0m \u001b[1m1s\u001b[0m 4ms/step - accuracy: 0.8572 - loss: 0.3390 - val_accuracy: 0.8383 - val_loss: 0.3646\n",
      "Epoch 76/100\n",
      "\u001b[1m280/280\u001b[0m \u001b[32m━━━━━━━━━━━━━━━━━━━━\u001b[0m\u001b[37m\u001b[0m \u001b[1m1s\u001b[0m 3ms/step - accuracy: 0.8539 - loss: 0.3421 - val_accuracy: 0.8343 - val_loss: 0.3651\n",
      "Epoch 77/100\n",
      "\u001b[1m280/280\u001b[0m \u001b[32m━━━━━━━━━━━━━━━━━━━━\u001b[0m\u001b[37m\u001b[0m \u001b[1m1s\u001b[0m 4ms/step - accuracy: 0.8640 - loss: 0.3329 - val_accuracy: 0.8356 - val_loss: 0.3651\n",
      "Epoch 78/100\n",
      "\u001b[1m280/280\u001b[0m \u001b[32m━━━━━━━━━━━━━━━━━━━━\u001b[0m\u001b[37m\u001b[0m \u001b[1m1s\u001b[0m 5ms/step - accuracy: 0.8533 - loss: 0.3508 - val_accuracy: 0.8339 - val_loss: 0.3651\n",
      "Epoch 79/100\n",
      "\u001b[1m280/280\u001b[0m \u001b[32m━━━━━━━━━━━━━━━━━━━━\u001b[0m\u001b[37m\u001b[0m \u001b[1m2s\u001b[0m 4ms/step - accuracy: 0.8582 - loss: 0.3345 - val_accuracy: 0.8365 - val_loss: 0.3644\n",
      "Epoch 80/100\n",
      "\u001b[1m280/280\u001b[0m \u001b[32m━━━━━━━━━━━━━━━━━━━━\u001b[0m\u001b[37m\u001b[0m \u001b[1m1s\u001b[0m 4ms/step - accuracy: 0.8591 - loss: 0.3396 - val_accuracy: 0.8356 - val_loss: 0.3646\n",
      "Epoch 81/100\n",
      "\u001b[1m280/280\u001b[0m \u001b[32m━━━━━━━━━━━━━━━━━━━━\u001b[0m\u001b[37m\u001b[0m \u001b[1m1s\u001b[0m 4ms/step - accuracy: 0.8530 - loss: 0.3425 - val_accuracy: 0.8365 - val_loss: 0.3648\n",
      "Epoch 82/100\n",
      "\u001b[1m280/280\u001b[0m \u001b[32m━━━━━━━━━━━━━━━━━━━━\u001b[0m\u001b[37m\u001b[0m \u001b[1m1s\u001b[0m 4ms/step - accuracy: 0.8635 - loss: 0.3376 - val_accuracy: 0.8361 - val_loss: 0.3650\n",
      "Epoch 83/100\n",
      "\u001b[1m280/280\u001b[0m \u001b[32m━━━━━━━━━━━━━━━━━━━━\u001b[0m\u001b[37m\u001b[0m \u001b[1m1s\u001b[0m 4ms/step - accuracy: 0.8592 - loss: 0.3392 - val_accuracy: 0.8370 - val_loss: 0.3645\n",
      "Epoch 84/100\n",
      "\u001b[1m280/280\u001b[0m \u001b[32m━━━━━━━━━━━━━━━━━━━━\u001b[0m\u001b[37m\u001b[0m \u001b[1m1s\u001b[0m 4ms/step - accuracy: 0.8604 - loss: 0.3324 - val_accuracy: 0.8343 - val_loss: 0.3645\n",
      "Epoch 85/100\n",
      "\u001b[1m280/280\u001b[0m \u001b[32m━━━━━━━━━━━━━━━━━━━━\u001b[0m\u001b[37m\u001b[0m \u001b[1m1s\u001b[0m 5ms/step - accuracy: 0.8572 - loss: 0.3394 - val_accuracy: 0.8356 - val_loss: 0.3638\n",
      "Epoch 86/100\n",
      "\u001b[1m280/280\u001b[0m \u001b[32m━━━━━━━━━━━━━━━━━━━━\u001b[0m\u001b[37m\u001b[0m \u001b[1m1s\u001b[0m 5ms/step - accuracy: 0.8531 - loss: 0.3398 - val_accuracy: 0.8343 - val_loss: 0.3638\n",
      "Epoch 87/100\n",
      "\u001b[1m280/280\u001b[0m \u001b[32m━━━━━━━━━━━━━━━━━━━━\u001b[0m\u001b[37m\u001b[0m \u001b[1m1s\u001b[0m 4ms/step - accuracy: 0.8633 - loss: 0.3308 - val_accuracy: 0.8361 - val_loss: 0.3647\n",
      "Epoch 88/100\n",
      "\u001b[1m280/280\u001b[0m \u001b[32m━━━━━━━━━━━━━━━━━━━━\u001b[0m\u001b[37m\u001b[0m \u001b[1m1s\u001b[0m 4ms/step - accuracy: 0.8624 - loss: 0.3351 - val_accuracy: 0.8410 - val_loss: 0.3633\n",
      "Epoch 89/100\n",
      "\u001b[1m280/280\u001b[0m \u001b[32m━━━━━━━━━━━━━━━━━━━━\u001b[0m\u001b[37m\u001b[0m \u001b[1m1s\u001b[0m 4ms/step - accuracy: 0.8615 - loss: 0.3342 - val_accuracy: 0.8392 - val_loss: 0.3629\n",
      "Epoch 90/100\n",
      "\u001b[1m280/280\u001b[0m \u001b[32m━━━━━━━━━━━━━━━━━━━━\u001b[0m\u001b[37m\u001b[0m \u001b[1m1s\u001b[0m 4ms/step - accuracy: 0.8626 - loss: 0.3285 - val_accuracy: 0.8388 - val_loss: 0.3636\n",
      "Epoch 91/100\n",
      "\u001b[1m280/280\u001b[0m \u001b[32m━━━━━━━━━━━━━━━━━━━━\u001b[0m\u001b[37m\u001b[0m \u001b[1m1s\u001b[0m 4ms/step - accuracy: 0.8642 - loss: 0.3304 - val_accuracy: 0.8397 - val_loss: 0.3631\n",
      "Epoch 92/100\n",
      "\u001b[1m280/280\u001b[0m \u001b[32m━━━━━━━━━━━━━━━━━━━━\u001b[0m\u001b[37m\u001b[0m \u001b[1m1s\u001b[0m 4ms/step - accuracy: 0.8607 - loss: 0.3416 - val_accuracy: 0.8392 - val_loss: 0.3633\n",
      "Epoch 93/100\n",
      "\u001b[1m280/280\u001b[0m \u001b[32m━━━━━━━━━━━━━━━━━━━━\u001b[0m\u001b[37m\u001b[0m \u001b[1m1s\u001b[0m 4ms/step - accuracy: 0.8557 - loss: 0.3422 - val_accuracy: 0.8356 - val_loss: 0.3641\n",
      "Epoch 94/100\n",
      "\u001b[1m280/280\u001b[0m \u001b[32m━━━━━━━━━━━━━━━━━━━━\u001b[0m\u001b[37m\u001b[0m \u001b[1m1s\u001b[0m 4ms/step - accuracy: 0.8570 - loss: 0.3394 - val_accuracy: 0.8401 - val_loss: 0.3624\n",
      "Epoch 95/100\n",
      "\u001b[1m280/280\u001b[0m \u001b[32m━━━━━━━━━━━━━━━━━━━━\u001b[0m\u001b[37m\u001b[0m \u001b[1m1s\u001b[0m 5ms/step - accuracy: 0.8564 - loss: 0.3424 - val_accuracy: 0.8401 - val_loss: 0.3629\n",
      "Epoch 96/100\n",
      "\u001b[1m280/280\u001b[0m \u001b[32m━━━━━━━━━━━━━━━━━━━━\u001b[0m\u001b[37m\u001b[0m \u001b[1m1s\u001b[0m 5ms/step - accuracy: 0.8615 - loss: 0.3279 - val_accuracy: 0.8410 - val_loss: 0.3616\n",
      "Epoch 97/100\n",
      "\u001b[1m280/280\u001b[0m \u001b[32m━━━━━━━━━━━━━━━━━━━━\u001b[0m\u001b[37m\u001b[0m \u001b[1m1s\u001b[0m 5ms/step - accuracy: 0.8568 - loss: 0.3340 - val_accuracy: 0.8401 - val_loss: 0.3620\n",
      "Epoch 98/100\n",
      "\u001b[1m280/280\u001b[0m \u001b[32m━━━━━━━━━━━━━━━━━━━━\u001b[0m\u001b[37m\u001b[0m \u001b[1m1s\u001b[0m 5ms/step - accuracy: 0.8594 - loss: 0.3386 - val_accuracy: 0.8388 - val_loss: 0.3617\n",
      "Epoch 99/100\n",
      "\u001b[1m280/280\u001b[0m \u001b[32m━━━━━━━━━━━━━━━━━━━━\u001b[0m\u001b[37m\u001b[0m \u001b[1m1s\u001b[0m 5ms/step - accuracy: 0.8630 - loss: 0.3330 - val_accuracy: 0.8392 - val_loss: 0.3618\n",
      "Epoch 100/100\n",
      "\u001b[1m280/280\u001b[0m \u001b[32m━━━━━━━━━━━━━━━━━━━━\u001b[0m\u001b[37m\u001b[0m \u001b[1m1s\u001b[0m 5ms/step - accuracy: 0.8626 - loss: 0.3263 - val_accuracy: 0.8397 - val_loss: 0.3620\n"
     ]
    }
   ],
   "source": [
    "history = model.fit(X_train, y_train, validation_data=(X_test, y_test), epochs=100, batch_size=32, callbacks=[early_stopping])"
   ]
  },
  {
   "cell_type": "code",
   "execution_count": 72,
   "metadata": {
    "colab": {
     "base_uri": "https://localhost:8080/"
    },
    "id": "Cpp8Zi-42VPr",
    "outputId": "e1e0f37f-36a5-4bdd-e9b0-ceb5f4dfddfb"
   },
   "outputs": [
    {
     "name": "stdout",
     "output_type": "stream",
     "text": [
      "\u001b[1m70/70\u001b[0m \u001b[32m━━━━━━━━━━━━━━━━━━━━\u001b[0m\u001b[37m\u001b[0m \u001b[1m0s\u001b[0m 3ms/step - accuracy: 0.8290 - loss: 0.3912\n",
      "Test Accuracy: 84.10%\n"
     ]
    }
   ],
   "source": [
    "# Evaluate the model\n",
    "test_loss, test_acc = model.evaluate(X_test, y_test)\n",
    "\n",
    "print(f\"Test Accuracy: {test_acc * 100:.2f}%\")"
   ]
  }
 ],
 "metadata": {
  "colab": {
   "provenance": []
  },
  "kernelspec": {
   "display_name": "Python 3 (ipykernel)",
   "language": "python",
   "name": "python3"
  },
  "language_info": {
   "codemirror_mode": {
    "name": "ipython",
    "version": 3
   },
   "file_extension": ".py",
   "mimetype": "text/x-python",
   "name": "python",
   "nbconvert_exporter": "python",
   "pygments_lexer": "ipython3",
   "version": "3.12.4"
  }
 },
 "nbformat": 4,
 "nbformat_minor": 4
}
